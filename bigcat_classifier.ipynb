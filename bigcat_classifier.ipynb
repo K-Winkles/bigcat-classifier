{
 "cells": [
  {
   "cell_type": "markdown",
   "metadata": {},
   "source": [
    "# Using CNN (Convolutional Neural Network) to Classify Images of Big Cats\n",
    "Prepared By: Kiana Villaera\n",
    "\n",
    "Much of the other content in this notebook [references this notebook](https://www.kaggle.com/code/misski/big-cats-classification-acc/edit).\n",
    "\n",
    "## Problem Statement\n",
    "\n",
    "There are many state-of-the-art architectures out there like:\n",
    "* **ResNet** a popular architecture that uses residual connections to enable training of very deep networks.\n",
    "* **Inception** uses multiple parallel convolutions at different scales to capture fine-grained details in images.\n",
    "* **Xception** a variant of Inception, uses depthwise separable convolutions to reduce computational complexity while maintaining accuracy.\n",
    "* **MobileNet** is another efficient architecture that is designed for mobile and embedded devices.\n",
    "* **EfficientNet** is a recent architecture that achieves state-of-the-art performance by automatically scaling up the network's depth, width, and resolution.\n",
    "\n",
    "However, in this notebook, we want to come up with our own model architecture that can beat a baseline model. In all honesty, we can just use **transfer learning** and pick up a SOTA model and fine-tune it as seen in the reference notebook. However, the current goal is to deep dive into the fundamentals of CNN.\n",
    "\n",
    "Our baseline model will be a [very vanilla implementation of CNN](https://www.tensorflow.org/tutorials/images/cnn?hl=fr) found on the Tensorflow website.\n",
    "\n",
    "## Preliminaries\n",
    "\n",
    "In this section we go through the fundamental knowledge needed to understand how CNN and neural networks in general work.\n",
    "\n",
    "### What are deep neural networks?\n",
    "A deep neural network is a type of machine learning model, and when it is fitted to data, this is referred to as deep learning.[[1]](https://udlbook.github.io/udlbook/) We are primarily interested in the weights that result from model training. That's what model checkpoints with a .h5 extension refer to.\n",
    "\n",
    "![images/ai_ml_dl.PNG](images/ai_ml_dl.PNG)\n",
    "\n",
    "**Figure 1: AI/ML/DL body of knowledge**\n",
    "\n",
    "### What is a Convolutional Neural Network (CNN)?\n",
    "A CNN is...\n",
    "\n",
    "[CNN Explainer](https://poloclub.github.io/cnn-explainer/)\n",
    "### Terminology\n",
    "* A tensor can be thought of as an n-dimensional matrix. In the CNN above, tensors will be 3-dimensional with the exception of the output layer.\n",
    "* A neuron can be thought of as a function that takes in multiple inputs and yields a single output.\n",
    "* A layer is simply a collection of neurons with the same operation, including the same hyperparameters.\n",
    "* Kernel weights and biases, while unique to each neuron, are tuned during the training phase, and allow the classifier to adapt to the problem and dataset provided.\n",
    "\n",
    "### Hyperparameters\n",
    "We will find the best hyperparameters using Tensorflow's `randomsearch`\n",
    "* learning rate - reduce this for a smoother learning curve\n",
    "* epoch - essentially how many passes\n",
    "* batch size - increase this to allow the model to see more samples per iteration\n",
    "* n_layers - how many layers\n",
    "* units per layer\n",
    "* dropout rate\n",
    "\n",
    "\n",
    "## Evaluating Model Performance\n",
    "* Accuracy\n",
    "* Loss"
   ]
  },
  {
   "cell_type": "code",
   "execution_count": 12,
   "metadata": {},
   "outputs": [],
   "source": [
    "# Common imports\n",
    "import os\n",
    "import numpy as np\n",
    "import tensorflow as tf\n",
    "from tensorflow import keras\n",
    "from typing import Tuple, List\n",
    "from glob import glob\n",
    "\n",
    "# Data Imports\n",
    "import pandas as pd\n",
    "from tqdm import tqdm\n",
    "from tensorflow import image as tfi\n",
    "\n",
    "# Data Visualization\n",
    "import plotly.express as px\n",
    "import matplotlib.pyplot as plt\n",
    "from IPython.display import clear_output as cls\n",
    "\n",
    "# Model Architecture\n",
    "from tensorflow.keras import datasets, layers, models\n",
    "\n",
    "# Model Training\n",
    "from tensorflow.keras.optimizers.legacy import Adam\n",
    "from tensorflow.keras.callbacks import EarlyStopping\n",
    "from tensorflow.keras.callbacks import ModelCheckpoint\n",
    "\n",
    "# Model Hypertunning\n",
    "import keras_tuner as kt"
   ]
  },
  {
   "cell_type": "code",
   "execution_count": 2,
   "metadata": {},
   "outputs": [],
   "source": [
    "# Set the directories for the dataset\n",
    "train_dir = 'data/train/'\n",
    "test_dir = 'data/test/'\n",
    "valid_dir = 'data/valid/'\n",
    "\n",
    "# Get all class names and count the number of classes\n",
    "class_names = os.listdir(train_dir)\n",
    "n_classes = len(class_names)\n",
    "\n",
    "# Set some constants for the dataset\n",
    "BATCH_SIZE = 32 # Number of samples in each batch during training\n",
    "IMG_SIZE = 224 # Size of the image\n",
    "AUTOTUNE = tf.data.AUTOTUNE # Set to optimize the buffer size automatically\n",
    "LEARNING_RATE = 1e-3 # Learning rate for the optimizer used during model training"
   ]
  },
  {
   "cell_type": "code",
   "execution_count": 3,
   "metadata": {},
   "outputs": [],
   "source": [
    "# Set the random seed for reproducibility\n",
    "RANDOM_SEED = 42\n",
    "np.random.seed(RANDOM_SEED)\n",
    "tf.random.set_seed(RANDOM_SEED)"
   ]
  },
  {
   "cell_type": "code",
   "execution_count": 4,
   "metadata": {},
   "outputs": [],
   "source": [
    "def load_image(image_path: str) -> tf.Tensor:\n",
    "    \n",
    "    '''\n",
    "    The task of the function is to load the image present in the specified given image path. Loading the image the function also performed some \n",
    "    preprocessing steps such as resizing and normalization.\n",
    "    \n",
    "    Argument:\n",
    "        image_path(str) : This is a string which represents the location of the image file to be loaded.\n",
    "        \n",
    "    Returns:\n",
    "        image(tf.Tensor) : This is the image which is loaded from the given image part in the form of a tensor.\n",
    "    '''\n",
    "    \n",
    "    # Check if image path exists\n",
    "    assert os.path.exists(image_path), f'Invalid image path: {image_path}'\n",
    "    \n",
    "    # Load the image\n",
    "    image = plt.imread(image_path)\n",
    "    \n",
    "    # Resize the Image\n",
    "    image = tfi.resize(image, (IMG_SIZE, IMG_SIZE))\n",
    "    \n",
    "    # Convert image data type to tf.float32\n",
    "    image = tf.cast(image, tf.float32)\n",
    "    \n",
    "    # Normalize the image to bring pixel values between 0 - 1\n",
    "    image = image/255.0\n",
    "    \n",
    "    return image"
   ]
  },
  {
   "cell_type": "code",
   "execution_count": 5,
   "metadata": {},
   "outputs": [],
   "source": [
    "def load_dataset(root_path: str, class_names: list, batch_size: int = 32, buffer_size: int = 1000) -> Tuple[np.ndarray, np.ndarray]:\n",
    "    '''\n",
    "    Load and preprocess images from the given root path and return them as numpy arrays.\n",
    "\n",
    "    Args:\n",
    "        root_path (str): Path to the root directory where all the subdirectories (class names) are present.\n",
    "        class_names (list): List of the names of all the subdirectories (class names).\n",
    "        batch_size (int): Batch size of the final dataset. Defaults to 32.\n",
    "        buffer_size (int): Buffer size to use when shuffling the data. Defaults to 1000.\n",
    "\n",
    "    Returns:\n",
    "        Two numpy arrays, one containing the images and the other containing their respective labels.\n",
    "    '''\n",
    "\n",
    "    # Collect total number of data samples\n",
    "    n_samples = sum([len(os.listdir(os.path.join(root_path, name))) for name in class_names])\n",
    "\n",
    "    # Create arrays to store images and labels\n",
    "    images = np.empty(shape=(n_samples, IMG_SIZE, IMG_SIZE, 3), dtype=np.float32)\n",
    "    labels = np.empty(shape=(n_samples, 1), dtype=np.int32)\n",
    "\n",
    "    # Loop over all the image file paths, load and store the images with respective labels\n",
    "    n_image = 0\n",
    "    for class_name in tqdm(class_names, desc=\"Loading\"):\n",
    "        class_path = os.path.join(root_path, class_name)\n",
    "        for file_path in glob(os.path.join(class_path, \"*\")):\n",
    "            # Load the image\n",
    "            image = load_image(file_path)\n",
    "\n",
    "            # Assign label\n",
    "            label = class_names.index(class_name)\n",
    "\n",
    "            # Store the image and the respective label\n",
    "            images[n_image] = image\n",
    "            labels[n_image] = label\n",
    "\n",
    "            # Increment the number of images processed\n",
    "            n_image += 1\n",
    "\n",
    "    # Shuffle the data\n",
    "    indices = np.random.permutation(n_samples)\n",
    "    images = images[indices]\n",
    "    labels = labels[indices]\n",
    "\n",
    "    return images, labels"
   ]
  },
  {
   "cell_type": "code",
   "execution_count": 6,
   "metadata": {},
   "outputs": [
    {
     "name": "stderr",
     "output_type": "stream",
     "text": [
      "Loading: 100%|██████████| 10/10 [00:08<00:00,  1.13it/s]\n",
      "Loading: 100%|██████████| 10/10 [00:00<00:00, 56.17it/s]\n",
      "Loading: 100%|██████████| 10/10 [00:00<00:00, 72.98it/s]\n"
     ]
    }
   ],
   "source": [
    "# create model_checkpoints directory\n",
    "if not os.path.isdir(\"model_checkpoints\"):\n",
    "    os.mkdir(\"model_checkpoints\")\n",
    "\n",
    "# Load the training dataset\n",
    "X_train, y_train = load_dataset(root_path = train_dir, class_names = class_names)\n",
    "\n",
    "# Load the validation dataset\n",
    "X_valid, y_valid = load_dataset(root_path = valid_dir, class_names = class_names)\n",
    "\n",
    "# Load the testing dataset\n",
    "X_test, y_test = load_dataset(root_path = test_dir, class_names = class_names)"
   ]
  },
  {
   "cell_type": "markdown",
   "metadata": {},
   "source": [
    "### The Baseline Model"
   ]
  },
  {
   "cell_type": "code",
   "execution_count": 32,
   "metadata": {},
   "outputs": [
    {
     "name": "stdout",
     "output_type": "stream",
     "text": [
      "Model: \"sequential_7\"\n",
      "_________________________________________________________________\n",
      " Layer (type)                Output Shape              Param #   \n",
      "=================================================================\n",
      " conv2d_17 (Conv2D)          (None, 222, 222, 32)      896       \n",
      "                                                                 \n",
      " max_pooling2d_12 (MaxPooli  (None, 111, 111, 32)      0         \n",
      " ng2D)                                                           \n",
      "                                                                 \n",
      " conv2d_18 (Conv2D)          (None, 109, 109, 64)      18496     \n",
      "                                                                 \n",
      " max_pooling2d_13 (MaxPooli  (None, 54, 54, 64)        0         \n",
      " ng2D)                                                           \n",
      "                                                                 \n",
      " conv2d_19 (Conv2D)          (None, 52, 52, 64)        36928     \n",
      "                                                                 \n",
      " flatten_3 (Flatten)         (None, 173056)            0         \n",
      "                                                                 \n",
      " dense_6 (Dense)             (None, 64)                11075648  \n",
      "                                                                 \n",
      " dense_7 (Dense)             (None, 10)                650       \n",
      "                                                                 \n",
      "=================================================================\n",
      "Total params: 11132618 (42.47 MB)\n",
      "Trainable params: 11132618 (42.47 MB)\n",
      "Non-trainable params: 0 (0.00 Byte)\n",
      "_________________________________________________________________\n"
     ]
    }
   ],
   "source": [
    "model = models.Sequential()\n",
    "model.add(layers.Conv2D(32, (3, 3), activation='relu', input_shape=(IMG_SIZE, IMG_SIZE, 3)))\n",
    "model.add(layers.MaxPooling2D((2, 2)))\n",
    "model.add(layers.Conv2D(64, (3, 3), activation='relu'))\n",
    "model.add(layers.MaxPooling2D((2, 2)))\n",
    "model.add(layers.Conv2D(64, (3, 3), activation='relu'))\n",
    "model.add(layers.Flatten())\n",
    "model.add(layers.Dense(64, activation='relu'))\n",
    "model.add(layers.Dense(10))\n",
    "model.summary()"
   ]
  },
  {
   "cell_type": "code",
   "execution_count": 34,
   "metadata": {},
   "outputs": [
    {
     "name": "stdout",
     "output_type": "stream",
     "text": [
      "Epoch 1/10\n",
      "74/74 [==============================] - 46s 597ms/step - loss: 1.7752 - accuracy: 0.3275 - val_loss: 1.7015 - val_accuracy: 0.4000\n",
      "Epoch 2/10\n",
      "74/74 [==============================] - 43s 578ms/step - loss: 1.4001 - accuracy: 0.4925 - val_loss: 1.4603 - val_accuracy: 0.4600\n",
      "Epoch 3/10\n",
      "74/74 [==============================] - 42s 571ms/step - loss: 0.9821 - accuracy: 0.6554 - val_loss: 1.2316 - val_accuracy: 0.5600\n",
      "Epoch 4/10\n",
      "74/74 [==============================] - 42s 562ms/step - loss: 0.5646 - accuracy: 0.8247 - val_loss: 1.6820 - val_accuracy: 0.5400\n",
      "Epoch 5/10\n",
      "74/74 [==============================] - 43s 577ms/step - loss: 0.2158 - accuracy: 0.9470 - val_loss: 2.8120 - val_accuracy: 0.4200\n",
      "Epoch 6/10\n",
      "74/74 [==============================] - 48s 643ms/step - loss: 0.0675 - accuracy: 0.9872 - val_loss: 2.9450 - val_accuracy: 0.5600\n",
      "Epoch 7/10\n",
      "74/74 [==============================] - 47s 633ms/step - loss: 0.0410 - accuracy: 0.9936 - val_loss: 2.8005 - val_accuracy: 0.5200\n",
      "Epoch 8/10\n",
      "74/74 [==============================] - 45s 614ms/step - loss: 0.0170 - accuracy: 0.9983 - val_loss: 3.6243 - val_accuracy: 0.5000\n",
      "Epoch 9/10\n",
      "74/74 [==============================] - 46s 617ms/step - loss: 0.0450 - accuracy: 0.9880 - val_loss: 2.4042 - val_accuracy: 0.5400\n",
      "Epoch 10/10\n",
      "74/74 [==============================] - 51s 685ms/step - loss: 0.0180 - accuracy: 0.9974 - val_loss: 3.1903 - val_accuracy: 0.5000\n"
     ]
    }
   ],
   "source": [
    "model.compile(optimizer='adam',\n",
    "              loss=tf.keras.losses.SparseCategoricalCrossentropy(from_logits=True),\n",
    "              metrics=['accuracy'])\n",
    "\n",
    "history = model.fit(X_train, y_train, epochs=10, \n",
    "                    validation_data=(X_valid, y_valid))"
   ]
  },
  {
   "cell_type": "code",
   "execution_count": 35,
   "metadata": {},
   "outputs": [
    {
     "name": "stdout",
     "output_type": "stream",
     "text": [
      "2/2 - 0s - loss: 2.9327 - accuracy: 0.5000 - 281ms/epoch - 141ms/step\n",
      "0.5\n"
     ]
    },
    {
     "data": {
      "image/png": "[encoded data removed]",
      "text/plain": [
       "<Figure size 640x480 with 1 Axes>"
      ]
     },
     "metadata": {},
     "output_type": "display_data"
    }
   ],
   "source": [
    "plt.plot(history.history['accuracy'], label='accuracy')\n",
    "plt.plot(history.history['val_accuracy'], label = 'val_accuracy')\n",
    "plt.xlabel('Epoch')\n",
    "plt.ylabel('Accuracy')\n",
    "plt.ylim([0.5, 1])\n",
    "plt.legend(loc='lower right')\n",
    "\n",
    "test_loss, test_acc = model.evaluate(X_test,  y_test, verbose=2)\n",
    "print(test_acc)"
   ]
  },
  {
   "cell_type": "markdown",
   "metadata": {},
   "source": [
    "**The baseline accuracy therefore is 50%.**"
   ]
  },
  {
   "cell_type": "markdown",
   "metadata": {},
   "source": [
    "### Improving on the Baseline Model"
   ]
  },
  {
   "cell_type": "code",
   "execution_count": null,
   "metadata": {},
   "outputs": [],
   "source": []
  },
  {
   "cell_type": "markdown",
   "metadata": {},
   "source": [
    "# References\n",
    "[Prince, S. J. D. (2023). Understanding Deep Learning. MIT Press.](https://udlbook.github.io/udlbook/)"
   ]
  },
  {
   "cell_type": "markdown",
   "metadata": {},
   "source": []
  }
 ],
 "metadata": {
  "kernelspec": {
   "display_name": "Python 3",
   "language": "python",
   "name": "python3"
  },
  "language_info": {
   "codemirror_mode": {
    "name": "ipython",
    "version": 3
   },
   "file_extension": ".py",
   "mimetype": "text/x-python",
   "name": "python",
   "nbconvert_exporter": "python",
   "pygments_lexer": "ipython3",
   "version": "3.11.4"
  }
 },
 "nbformat": 4,
 "nbformat_minor": 2
}
